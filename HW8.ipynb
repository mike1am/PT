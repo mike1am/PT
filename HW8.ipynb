{
 "cells": [
  {
   "attachments": {},
   "cell_type": "markdown",
   "metadata": {},
   "source": [
    "# ДЗ 8"
   ]
  },
  {
   "cell_type": "code",
   "execution_count": 2,
   "metadata": {},
   "outputs": [],
   "source": [
    "import scipy.stats as stats\n",
    "import numpy as np\n",
    "import pandas as pd\n",
    "import matplotlib.pyplot as plt"
   ]
  },
  {
   "attachments": {},
   "cell_type": "markdown",
   "metadata": {},
   "source": [
    "### Задача 1\n",
    "`Даны значения величины заработной платы заемщиков банка (zp) и значения их поведенческого кредитного скоринга (ks):`  \n",
    "`zp = [35, 45, 190, 200, 40, 70, 54, 150, 120, 110],`  \n",
    "`ks = [401, 574, 874, 919, 459, 739, 653, 902, 746, 832].`\n",
    "\n",
    "`Найдите ковариацию этих двух величин с помощью элементарных действий, а затем с помощью функции cov из numpy.\n",
    "Полученные значения должны быть равны.\n",
    "Найдите коэффициент корреляции Пирсона с помощью ковариации и среднеквадратичных отклонений двух признаков, а затем с использованием функций из библиотек numpy и pandas.`"
   ]
  },
  {
   "cell_type": "code",
   "execution_count": 6,
   "metadata": {},
   "outputs": [
    {
     "data": {
      "image/png": "[encoded data removed]",
      "text/plain": [
       "<Figure size 640x480 with 1 Axes>"
      ]
     },
     "metadata": {},
     "output_type": "display_data"
    }
   ],
   "source": [
    "zp = np.array([35, 45, 190, 200, 40, 70, 54, 150, 120, 110])\n",
    "ks = np.array([401, 574, 874, 919, 459, 739, 653, 902, 746, 832])\n",
    "\n",
    "plt.scatter(zp, ks)\n",
    "plt.xlabel(\"Зарплаты\")\n",
    "plt.ylabel(\"Кредитный скоринг\")\n",
    "plt.show()"
   ]
  },
  {
   "cell_type": "code",
   "execution_count": 7,
   "metadata": {},
   "outputs": [
    {
     "data": {
      "text/plain": [
       "(9157.839999999997,\n",
       " array([[ 3494.64,  9157.84],\n",
       "        [ 9157.84, 30468.89]]))"
      ]
     },
     "execution_count": 7,
     "metadata": {},
     "output_type": "execute_result"
    }
   ],
   "source": [
    "\n",
    "cov1 = np.mean(zp * ks) - np.mean(zp) * np.mean(ks) # ковариация по формуле\n",
    "cov2 = np.cov(zp, ks, ddof=0) # ковариация с помощью функции\n",
    "\n",
    "cov1, cov2"
   ]
  },
  {
   "cell_type": "code",
   "execution_count": 8,
   "metadata": {},
   "outputs": [
    {
     "data": {
      "text/plain": [
       "(0.8874900920739158,\n",
       " array([[1.        , 0.88749009],\n",
       "        [0.88749009, 1.        ]]),\n",
       " 0.8874900920739162)"
      ]
     },
     "execution_count": 8,
     "metadata": {},
     "output_type": "execute_result"
    }
   ],
   "source": [
    "r1 = cov1 / np.std(zp, ddof=0) / np.std(ks, ddof=0) # коэфф. Пирсона по формуле\n",
    "r2 = np.corrcoef(zp, ks) # коэфф. Пирсона с помощью numpy\n",
    "\n",
    "df = pd.DataFrame({\n",
    "    'sal' : zp,\n",
    "    'ks' : ks\n",
    "})\n",
    "r3 = df['sal'].corr(df['ks']) # коэфф. Пирсона с помощью pandas\n",
    "\n",
    "r1, r2, r3"
   ]
  },
  {
   "attachments": {},
   "cell_type": "markdown",
   "metadata": {},
   "source": [
    "### Задача 2\n",
    "`Измерены значения IQ выборки студентов, обучающихся в местных технических вузах:`  \n",
    "`131, 125, 115, 122, 131, 115, 107, 99, 125, 111.`\n",
    "\n",
    "`Известно, что в генеральной совокупности IQ распределен нормально.\n",
    "Найдите доверительный интервал для математического ожидания с надежностью 0.95.`"
   ]
  },
  {
   "cell_type": "code",
   "execution_count": 9,
   "metadata": {},
   "outputs": [
    {
     "data": {
      "text/plain": [
       "(110.55608365158724, 125.64391634841274)"
      ]
     },
     "execution_count": 9,
     "metadata": {},
     "output_type": "execute_result"
    }
   ],
   "source": [
    "X = np.array([131, 125, 115, 122, 131, 115, 107, 99, 125, 111])\n",
    "CL = 0.95 # довер. вероятность интервала\n",
    "\n",
    "m = np.mean(X) # среднее по выборке\n",
    "n = len(X)\n",
    "\n",
    "se = np.std(X, ddof=1) / np.sqrt(n) # ошибка среднего\n",
    "t = stats.t.ppf(1 - (1 - CL) / 2, df=(n - 1)) # критерий Стьюдента\n",
    "\n",
    "ci = (\n",
    "    m - t * se,\n",
    "    m + t * se\n",
    ")\n",
    "ci"
   ]
  },
  {
   "attachments": {},
   "cell_type": "markdown",
   "metadata": {},
   "source": [
    "### Задача 3\n",
    "`Известно, что рост футболистов в сборной распределен нормально с дисперсией генеральной совокупности, равной 25 кв.см. Объем выборки равен 27, среднее выборочное составляет 174.2. Найдите доверительный интервал для математического ожидания с надежностью 0.95.`"
   ]
  },
  {
   "cell_type": "code",
   "execution_count": 10,
   "metadata": {},
   "outputs": [
    {
     "data": {
      "text/plain": [
       "(172.3140237765397, 176.08597622346028)"
      ]
     },
     "execution_count": 10,
     "metadata": {},
     "output_type": "execute_result"
    }
   ],
   "source": [
    "D = 25 # дисперсия генеральной совокупности\n",
    "N = 27 # объём выборки\n",
    "M = 174.2 # среднее по выборке\n",
    "CL = 0.95 # довер. вероятность интервала\n",
    "\n",
    "z = stats.norm.ppf(1 - (1 - CL) / 2) # z-критерий\n",
    "se = np.sqrt(D / N)\n",
    "\n",
    "ci = (\n",
    "    M - z * se,\n",
    "    M + z * se\n",
    ")\n",
    "ci"
   ]
  }
 ],
 "metadata": {
  "kernelspec": {
   "display_name": "Python 3",
   "language": "python",
   "name": "python3"
  },
  "language_info": {
   "codemirror_mode": {
    "name": "ipython",
    "version": 3
   },
   "file_extension": ".py",
   "mimetype": "text/x-python",
   "name": "python",
   "nbconvert_exporter": "python",
   "pygments_lexer": "ipython3",
   "version": "3.10.7"
  },
  "orig_nbformat": 4,
  "vscode": {
   "interpreter": {
    "hash": "6c32dbc7c05ad5f3c68dcc7b95560371c17f323899af461511fd225478ef93f6"
   }
  }
 },
 "nbformat": 4,
 "nbformat_minor": 2
}
