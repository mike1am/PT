{
 "cells": [
  {
   "attachments": {},
   "cell_type": "markdown",
   "metadata": {},
   "source": [
    "# ДЗ 1"
   ]
  },
  {
   "cell_type": "code",
   "execution_count": 1,
   "metadata": {},
   "outputs": [],
   "source": [
    "import combinatorics as cmb"
   ]
  },
  {
   "attachments": {},
   "cell_type": "markdown",
   "metadata": {},
   "source": [
    "### Задача 1\n",
    "Из колоды в 52 карты извлекаются случайным образом 4 карты. a) Найти вероятность того, что все карты – крести. б) Найти вероятность, что среди 4-х карт окажется хотя бы один туз."
   ]
  },
  {
   "cell_type": "code",
   "execution_count": 17,
   "metadata": {},
   "outputs": [
    {
     "name": "stdout",
     "output_type": "stream",
     "text": [
      "а: 0.26%\n",
      "б: 28.13%\n"
     ]
    }
   ],
   "source": [
    "TOTAL_CARDS = 52 # всего карт в колоде\n",
    "SELECTION_NUM = 4 # сколько берём карт\n",
    "CLABS_NUM = int(TOTAL_CARDS / 4) # крестей в колоде\n",
    "\n",
    "totalCases = cmb.combNum(TOTAL_CARDS, SELECTION_NUM) # всего способов вытащить заданное кол. карт\n",
    "clabsCases = cmb.combNum(CLABS_NUM, SELECTION_NUM) # способов вытащить, чтобы все были крести\n",
    "\n",
    "answer_a = clabsCases / totalCases\n",
    "print(f\"а: {round(answer_a * 100, 2)}%\")\n",
    "\n",
    "noAceCases = cmb.combNum(TOTAL_CARDS - 4, SELECTION_NUM) # способов вытащить заданное кол. карт без тузов\n",
    "answer_b = 1 - noAceCases / totalCases\n",
    "print(f\"б: {round(answer_b * 100, 2)}%\")"
   ]
  },
  {
   "attachments": {},
   "cell_type": "markdown",
   "metadata": {},
   "source": [
    "### Задача 2\n",
    "На входной двери подъезда установлен кодовый замок, содержащий десять кнопок с цифрами от 0 до 9. Код содержит три цифры, которые нужно нажать одновременно. Какова вероятность того, что человек, не знающий код, откроет дверь с первой попытки?"
   ]
  },
  {
   "cell_type": "code",
   "execution_count": 6,
   "metadata": {},
   "outputs": [
    {
     "name": "stdout",
     "output_type": "stream",
     "text": [
      "0.83%\n"
     ]
    }
   ],
   "source": [
    "BUTTON_NUM = 10 # кол. кнопок на замке\n",
    "CODE_LEN = 3 # длина кода\n",
    "\n",
    "totalCases = cmb.combNum(BUTTON_NUM, CODE_LEN) # всего возможных кодов\n",
    "answer = 1 / totalCases\n",
    "\n",
    "print(f\"{round(answer * 100, 2)}%\")"
   ]
  },
  {
   "attachments": {},
   "cell_type": "markdown",
   "metadata": {},
   "source": [
    "### Задача 3\n",
    "В ящике имеется 15 деталей, из которых 9 окрашены. Рабочий случайным образом извлекает 3 детали. Какова вероятность того, что все извлеченные детали окрашены?"
   ]
  },
  {
   "cell_type": "code",
   "execution_count": 4,
   "metadata": {},
   "outputs": [
    {
     "name": "stdout",
     "output_type": "stream",
     "text": [
      "18.46%\n"
     ]
    }
   ],
   "source": [
    "TOTAL_PIECES = 15 # общее кол. деталей\n",
    "PAINTED_NUM = 9 # кол. окрашенных\n",
    "SEL_NUM = 3 # взято деталей\n",
    "\n",
    "totalCases = cmb.combNum(TOTAL_PIECES, SEL_NUM) # всего способов взять заданное кол. деталей\n",
    "paintedCases = cmb.combNum(PAINTED_NUM, SEL_NUM) # способов взять детали, чтобы все были окрашенные\n",
    "\n",
    "answer = paintedCases / totalCases\n",
    "print(f\"{round(answer * 100, 2)}%\")"
   ]
  },
  {
   "attachments": {},
   "cell_type": "markdown",
   "metadata": {},
   "source": [
    "### Задача 4\n",
    "В лотерее 100 билетов. Из них 2 выигрышных. Какова вероятность того, что 2 приобретенных билета окажутся выигрышными?"
   ]
  },
  {
   "cell_type": "code",
   "execution_count": 5,
   "metadata": {},
   "outputs": [
    {
     "name": "stdout",
     "output_type": "stream",
     "text": [
      "0.02%\n"
     ]
    }
   ],
   "source": [
    "TOTAL_TICKETS = 100 # всего билетов\n",
    "WINNING_NUM = 2 # выигрышных билетов\n",
    "BOUGHT_NUM = 2 # куплено билетов\n",
    "\n",
    "totalCases = cmb.combNum(TOTAL_TICKETS, BOUGHT_NUM) # всего вариантов покупки билетов\n",
    "winningCases = 1 # способов покупки выигрышных билетов, т.к. кол. купленных и выигрышных билетов совпадает\n",
    "\n",
    "answer = winningCases / totalCases\n",
    "print(f\"{round(answer * 100, 2)}%\")"
   ]
  }
 ],
 "metadata": {
  "kernelspec": {
   "display_name": "Python 3",
   "language": "python",
   "name": "python3"
  },
  "language_info": {
   "codemirror_mode": {
    "name": "ipython",
    "version": 3
   },
   "file_extension": ".py",
   "mimetype": "text/x-python",
   "name": "python",
   "nbconvert_exporter": "python",
   "pygments_lexer": "ipython3",
   "version": "3.10.7"
  },
  "orig_nbformat": 4,
  "vscode": {
   "interpreter": {
    "hash": "6c32dbc7c05ad5f3c68dcc7b95560371c17f323899af461511fd225478ef93f6"
   }
  }
 },
 "nbformat": 4,
 "nbformat_minor": 2
}
