{
 "cells": [
  {
   "attachments": {},
   "cell_type": "markdown",
   "metadata": {},
   "source": [
    "# ДЗ 2"
   ]
  },
  {
   "cell_type": "code",
   "execution_count": 1,
   "metadata": {},
   "outputs": [],
   "source": [
    "import distributions as dst\n",
    "import combinatorics as cmb"
   ]
  },
  {
   "attachments": {},
   "cell_type": "markdown",
   "metadata": {},
   "source": [
    "### Задача 1\n",
    "Вероятность того, что стрелок попадет в мишень, выстрелив один раз, равна 0.8. Стрелок выстрелил 100 раз. Найдите вероятность того, что стрелок попадет в цель ровно 85 раз."
   ]
  },
  {
   "cell_type": "code",
   "execution_count": 6,
   "metadata": {},
   "outputs": [
    {
     "name": "stdout",
     "output_type": "stream",
     "text": [
      "4.81%\n"
     ]
    }
   ],
   "source": [
    "N = 100 # кол. выстрелов\n",
    "P1 = 0.8 # вероятность 1 попадания\n",
    "K = 85 # предположительное кол. попаданий\n",
    "\n",
    "p_k = dst.bernoulli(N, K, P1) # вероятность предположительного кол. попаданий\n",
    "print(f\"{round(p_k * 100, 2)}%\")"
   ]
  },
  {
   "attachments": {},
   "cell_type": "markdown",
   "metadata": {},
   "source": [
    "### Задача 2\n",
    "Вероятность того, что лампочка перегорит в течение первого дня эксплуатации, равна 0.0004. В жилом комплексе после ремонта в один день включили 5000 новых лампочек. Какова вероятность, что ни одна из них не перегорит в первый день? Какова вероятность, что перегорят ровно две?"
   ]
  },
  {
   "cell_type": "code",
   "execution_count": 12,
   "metadata": {},
   "outputs": [
    {
     "name": "stdout",
     "output_type": "stream",
     "text": [
      "ни одной не перегорит: 13.53%\n",
      "две перегорят: 27.07%\n"
     ]
    }
   ],
   "source": [
    "P = 0.0004 # вероятность перегорания лампочки в 1 день\n",
    "N = 5000 # кол. новых лампочек\n",
    "\n",
    "K1 = 0 # если ни одна не перегорит\n",
    "K2 = 2 # кол. перегоревших, если перегорят 2 лампочки\n",
    "\n",
    "p_k1 = dst.poisson(N * P, K1)\n",
    "p_k2 = dst.poisson(N * P, K2)\n",
    "\n",
    "print(f\"ни одной не перегорит: {round(p_k1 * 100, 2)}%\\nдве перегорят: {round(p_k2 * 100, 2)}%\")"
   ]
  },
  {
   "attachments": {},
   "cell_type": "markdown",
   "metadata": {},
   "source": [
    "### Задача 3\n",
    "Монету подбросили 144 раза. Какова вероятность, что орел выпадет ровно 70 раз?"
   ]
  },
  {
   "cell_type": "code",
   "execution_count": 23,
   "metadata": {},
   "outputs": [
    {
     "name": "stdout",
     "output_type": "stream",
     "text": [
      "Распред. Пуассона: 4.63%\n",
      "Биномиальное распред.: 6.28%\n"
     ]
    }
   ],
   "source": [
    "N = 144 # кол. подбрасываний\n",
    "K = 70 # предположительное кол. выпадений орла\n",
    "\n",
    "pp = dst.poisson(N * 0.5, K)\n",
    "pb = dst.bernoulli(N, K, 0.5)\n",
    "\n",
    "print(f\"Распред. Пуассона: {round(pp * 100, 2)}%\")\n",
    "print(f\"Биномиальное распред.: {round(pb * 100, 2)}%\")"
   ]
  },
  {
   "attachments": {},
   "cell_type": "markdown",
   "metadata": {},
   "source": [
    "Вероятность по распределению Пуассона рассчитана для сравнения.  \n",
    "В качестве ответа принимаем вероятность по биномиальному распределению, как более точному."
   ]
  },
  {
   "attachments": {},
   "cell_type": "markdown",
   "metadata": {},
   "source": [
    "### Задача 4\n",
    "В первом ящике находится 10 мячей, из которых 7 - белые. Во втором ящике - 11 мячей, из которых 9 белых. Из каждого ящика вытаскивают случайным образом по два мяча. Какова вероятность того, что все мячи белые? Какова вероятность того, что ровно два мяча белые? Какова вероятность того, что хотя бы один мяч белый?"
   ]
  },
  {
   "cell_type": "code",
   "execution_count": 18,
   "metadata": {},
   "outputs": [
    {
     "name": "stdout",
     "output_type": "stream",
     "text": [
      "a: 30.55%\n",
      "b: 20.48%\n",
      "c: 99.88%\n"
     ]
    }
   ],
   "source": [
    "N1 = 10 # кол. мячей в 1-ом ящике\n",
    "M1 = 7 # белых мячей в 1-ом ящике\n",
    "N2 = 11 # кол. мячей во 2-м ящике\n",
    "M2 = 9 # белых мячей во 2-ом ящике\n",
    "K = 2 # кол. мячей, вытаскиваемых из каждого ящика\n",
    "\n",
    "total1 = cmb.combNum(N1, K) # общее кол. способов вытащить мячи из 1-го ящика\n",
    "total2 = cmb.combNum(N2, K) # общее кол. способов вытащить мячи из 2-го ящика\n",
    "\n",
    "# вероятности вытащить определённое кол. белых мячей при общем кол. вытаскаваемых K\n",
    "pList = [[], []] # [bn][i] bn: 0 - 1-ый ящик, 1 - 2-ой ящик; i - кол. вытащенных белых мячей\n",
    "for i in range(3):\n",
    "    pList[0].append(cmb.combNum(M1, i) * cmb.combNum(N1 - M1, K - i) / total1)\n",
    "    pList[1].append(cmb.combNum(M2, i) * cmb.combNum(N2 - M2, K - i) / total2)\n",
    "\n",
    "p1 = pList[0][2] * pList[1][2]\n",
    "\n",
    "# складываем возможные ситуации, когда вытащены 2 мяча из 4-х\n",
    "p2 = pList[0][2] * pList[1][0] + \\\n",
    "     pList[0][1] * pList[1][1] + \\\n",
    "     pList[0][0] * pList[1][2]\n",
    "\n",
    "p3 = 1 - pList[0][0] * pList[1][0] # 1 - вероятность, что ни один мяч не белый\n",
    "\n",
    "print(f\"a: {round(p1 * 100, 2)}%\")\n",
    "print(f\"b: {round(p2 * 100, 2)}%\")\n",
    "print(f\"c: {round(p3 * 100, 2)}%\")"
   ]
  }
 ],
 "metadata": {
  "kernelspec": {
   "display_name": "Python 3",
   "language": "python",
   "name": "python3"
  },
  "language_info": {
   "codemirror_mode": {
    "name": "ipython",
    "version": 3
   },
   "file_extension": ".py",
   "mimetype": "text/x-python",
   "name": "python",
   "nbconvert_exporter": "python",
   "pygments_lexer": "ipython3",
   "version": "3.10.7"
  },
  "orig_nbformat": 4,
  "vscode": {
   "interpreter": {
    "hash": "6c32dbc7c05ad5f3c68dcc7b95560371c17f323899af461511fd225478ef93f6"
   }
  }
 },
 "nbformat": 4,
 "nbformat_minor": 2
}
