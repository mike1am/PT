{
 "cells": [
  {
   "attachments": {},
   "cell_type": "markdown",
   "metadata": {},
   "source": [
    "# ДЗ 6"
   ]
  },
  {
   "cell_type": "code",
   "execution_count": 3,
   "metadata": {},
   "outputs": [],
   "source": [
    "import scipy.stats as stats\n",
    "import numpy as np"
   ]
  },
  {
   "attachments": {},
   "cell_type": "markdown",
   "metadata": {},
   "source": [
    "### Задача 1\n",
    "`Известно, что генеральная совокупность распределена нормально со средним квадратическим отклонением, равным 16.`\n",
    "\n",
    "`Найти доверительный интервал для оценки математического ожидания a с надежностью 0.95, если выборочная средняя M = 80, а объем выборки n = 256.`"
   ]
  },
  {
   "cell_type": "code",
   "execution_count": 19,
   "metadata": {},
   "outputs": [
    {
     "data": {
      "text/plain": [
       "(78.04003601545995, 81.95996398454005)"
      ]
     },
     "execution_count": 19,
     "metadata": {},
     "output_type": "execute_result"
    }
   ],
   "source": [
    "STD = 16 # СКО\n",
    "CL = 0.95 # довер. вероятность интервала\n",
    "M = 80 # среднее по выборке\n",
    "N = 256 # размер выборки\n",
    "\n",
    "z = stats.norm.ppf(1 - (1 - CL) / 2) # z-критерий\n",
    "se = STD / np.sqrt(N) # ошибка среднего\n",
    "\n",
    "ci = ( # довер. интервал\n",
    "    M - z * se,\n",
    "    M + z * se\n",
    ")\n",
    "ci"
   ]
  },
  {
   "attachments": {},
   "cell_type": "markdown",
   "metadata": {},
   "source": [
    "### Задача 2\n",
    "`В результате 10 независимых измерений некоторой величины X, выполненных с одинаковой точностью, получены опытные данные:`\n",
    "\n",
    "`6.9, 6.1, 6.2, 6.8, 7.5, 6.3, 6.4, 6.9, 6.7, 6.1`\n",
    "\n",
    "`Предполагая, что результаты измерений подчинены нормальному закону распределения вероятностей, оценить истинное значение величины X при помощи доверительного интервала, покрывающего это значение с доверительной вероятностью 0,95.`"
   ]
  },
  {
   "cell_type": "code",
   "execution_count": 16,
   "metadata": {},
   "outputs": [
    {
     "data": {
      "text/plain": [
       "(6.267515851415713, 6.912484148584288)"
      ]
     },
     "execution_count": 16,
     "metadata": {},
     "output_type": "execute_result"
    }
   ],
   "source": [
    "X = (6.9, 6.1, 6.2, 6.8, 7.5, 6.3, 6.4, 6.9, 6.7, 6.1)\n",
    "CL = 0.95 # довер. вероятность\n",
    "\n",
    "t = stats.t.ppf(1 - (1 - CL) / 2, df=(len(X) - 1)) # критерий по Стьюденту\n",
    "mean = np.mean(X) # среднее по выборке\n",
    "se = np.std(X, ddof=1) / np.sqrt(len(X)) # ошибка среднего\n",
    "\n",
    "ci = ( # довер. интервал\n",
    "    mean - t * se,\n",
    "    mean + t * se\n",
    ")\n",
    "ci"
   ]
  },
  {
   "attachments": {},
   "cell_type": "markdown",
   "metadata": {},
   "source": [
    "### Задача 3\n",
    "`Рост дочерей 175, 167, 154, 174, 178, 148, 160, 167, 169, 170`\n",
    "\n",
    "`Рост матерей  178, 165, 165, 173, 168, 155, 160, 164, 178, 175`\n",
    "\n",
    "`Используя эти данные построить 95% доверительный интервал для разности среднего роста родителей и детей.`"
   ]
  },
  {
   "cell_type": "code",
   "execution_count": 23,
   "metadata": {},
   "outputs": [
    {
     "data": {
      "text/plain": [
       "(-6.268418034506846, 10.068418034506857)"
      ]
     },
     "execution_count": 23,
     "metadata": {},
     "output_type": "execute_result"
    }
   ],
   "source": [
    "X1 = (175, 167, 154, 174, 178, 148, 160, 167, 169, 170) # рост дочерей\n",
    "X2 = (178, 165, 165, 173, 168, 155, 160, 164, 178, 175) # рост матерей\n",
    "CL = 0.95 # довер. вероятность\n",
    "\n",
    "t = stats.t.ppf(1 - (1 - CL) / 2, df=(len(X1) - 1) + (len(X2) - 1)) # критерий по Стьюденту\n",
    "dMean = np.mean(X2) - np.mean(X1) # разность средних по выборкам\n",
    "se = np.sqrt(np.std(X1, ddof=1)**2 / len(X1) + np.std(X2, ddof=1)**2 / len(X2)) # ошибка среднего\n",
    "\n",
    "ci = ( # довер. интервал\n",
    "    dMean - t * se,\n",
    "    dMean + t * se\n",
    ")\n",
    "ci"
   ]
  }
 ],
 "metadata": {
  "kernelspec": {
   "display_name": "Python 3",
   "language": "python",
   "name": "python3"
  },
  "language_info": {
   "codemirror_mode": {
    "name": "ipython",
    "version": 3
   },
   "file_extension": ".py",
   "mimetype": "text/x-python",
   "name": "python",
   "nbconvert_exporter": "python",
   "pygments_lexer": "ipython3",
   "version": "3.10.7"
  },
  "orig_nbformat": 4,
  "vscode": {
   "interpreter": {
    "hash": "6c32dbc7c05ad5f3c68dcc7b95560371c17f323899af461511fd225478ef93f6"
   }
  }
 },
 "nbformat": 4,
 "nbformat_minor": 2
}
