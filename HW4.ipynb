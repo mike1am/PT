{
 "cells": [
  {
   "attachments": {},
   "cell_type": "markdown",
   "metadata": {},
   "source": [
    "# ДЗ 4"
   ]
  },
  {
   "cell_type": "code",
   "execution_count": 5,
   "metadata": {},
   "outputs": [],
   "source": [
    "from scipy import stats\n",
    "import math"
   ]
  },
  {
   "attachments": {},
   "cell_type": "markdown",
   "metadata": {},
   "source": [
    "### Задача 1\n",
    "Случайная непрерывная величина A имеет равномерное распределение на промежутке (200, 800].\n",
    "Найдите ее среднее значение и дисперсию."
   ]
  },
  {
   "cell_type": "code",
   "execution_count": 56,
   "metadata": {},
   "outputs": [
    {
     "name": "stdout",
     "output_type": "stream",
     "text": [
      "Среднее значение: 500.0\n",
      "Дисперсия: 30000.0\n"
     ]
    }
   ],
   "source": [
    "MIN_SCOPE = 200\n",
    "MAX_SCOPE = 800\n",
    "\n",
    "meanVal = (MIN_SCOPE + MAX_SCOPE) / 2 # среднее значение для равномерного распределения\n",
    "disp = (MAX_SCOPE - MIN_SCOPE)**2 / 12 # дисперсия\n",
    "\n",
    "print(f\"Среднее значение: {meanVal}\\nДисперсия: {disp}\")"
   ]
  },
  {
   "attachments": {},
   "cell_type": "markdown",
   "metadata": {},
   "source": [
    "#### `scipy.stats`"
   ]
  },
  {
   "cell_type": "code",
   "execution_count": 57,
   "metadata": {},
   "outputs": [
    {
     "name": "stdout",
     "output_type": "stream",
     "text": [
      "Среднее значение: 500.0\n",
      "Дисперсия: 30000.0\n"
     ]
    }
   ],
   "source": [
    "meanVal = stats.uniform.mean(loc=MIN_SCOPE, scale=(MAX_SCOPE - MIN_SCOPE))\n",
    "disp = stats.uniform.var(loc=MIN_SCOPE, scale=(MAX_SCOPE - MIN_SCOPE))\n",
    "\n",
    "print(f\"Среднее значение: {meanVal}\\nДисперсия: {disp}\")"
   ]
  },
  {
   "attachments": {},
   "cell_type": "markdown",
   "metadata": {},
   "source": [
    "### Задача 2\n",
    "О случайной непрерывной равномерно распределенной величине B известно, что ее дисперсия равна 0.2.\n",
    "Можно ли найти правую границу величины B и ее среднее значение зная, что левая граница равна 0.5?\n",
    "Если да, найдите ее."
   ]
  },
  {
   "cell_type": "code",
   "execution_count": 2,
   "metadata": {},
   "outputs": [
    {
     "name": "stdout",
     "output_type": "stream",
     "text": [
      "Нижняя граница: -1.049\n",
      "среднее значение: -0.275\n"
     ]
    }
   ],
   "source": [
    "DISP = 0.2 # дисперсия сл. величины\n",
    "MAX_SCOPE = 0.5 # верхняя граница\n",
    "\n",
    "rng = math.sqrt(12 * DISP) # расстояние между нижней и верхней границами\n",
    "\n",
    "minScope = MAX_SCOPE - rng\n",
    "meanVal = (minScope + MAX_SCOPE) / 2\n",
    "print(f\"Нижняя граница: {round(minScope, 3)}\")\n",
    "print(f\"среднее значение: {round(meanVal, 3)}\")"
   ]
  },
  {
   "attachments": {},
   "cell_type": "markdown",
   "metadata": {},
   "source": [
    "### Задача 3\n",
    "Непрерывная случайная величина X распределена нормально и задана плотностью распределения\n",
    "\n",
    "f(x) = (1 / (4 * sqrt(2pi))) * exp((-(x+2)**2) / 32)\n",
    "\n",
    "Найдите:  \n",
    "а) M(X)  \n",
    "б) D(X)  \n",
    "в) std(X) (среднее квадратичное отклонение)"
   ]
  },
  {
   "attachments": {},
   "cell_type": "markdown",
   "metadata": {},
   "source": [
    "Исходя из формулы:  \n",
    "M(X) = -2  \n",
    "D(X) = 16  \n",
    "&sigma; = 4"
   ]
  },
  {
   "attachments": {},
   "cell_type": "markdown",
   "metadata": {},
   "source": [
    "### Задача 4\n",
    "Рост взрослого населения города X имеет нормальное распределение.\n",
    "Причем, средний рост равен 174 см, а среднее квадратичное отклонение равно 8 см.\n",
    "\n",
    "Какова вероятность того, что случайным образом выбранный взрослый человек имеет рост:  \n",
    "а) больше 182 см  \n",
    "б) больше 190 см  \n",
    "в) от 166 см до 190 см  \n",
    "г) от 166 см до 182 см  \n",
    "д) от 158 см до 190 см  \n",
    "е) не выше 150 см или не ниже 190 см  \n",
    "ё) не выше 150 см или не ниже 198 см  \n",
    "ж) ниже 166 см"
   ]
  },
  {
   "cell_type": "code",
   "execution_count": 6,
   "metadata": {},
   "outputs": [
    {
     "data": {
      "text/plain": [
       "(182, 1.0, 190, 2.0, 166, -1.0, 158, -2.0, 150, -3.0, 198, 3.0)"
      ]
     },
     "execution_count": 6,
     "metadata": {},
     "output_type": "execute_result"
    }
   ],
   "source": [
    "MEAN_VAL = 174 # средний рост\n",
    "STD_DIFF = 8 # СКО\n",
    "\n",
    "# величины Z для таблицы\n",
    "(\n",
    "    182, (182 - MEAN_VAL) / STD_DIFF,\n",
    "    190, (190 - MEAN_VAL) / STD_DIFF,\n",
    "    166, (166 - MEAN_VAL) / STD_DIFF,\n",
    "    158, (158 - MEAN_VAL) / STD_DIFF,\n",
    "    150, (150 - MEAN_VAL) / STD_DIFF,\n",
    "    198, (198 - MEAN_VAL) / STD_DIFF,\n",
    ")"
   ]
  },
  {
   "cell_type": "code",
   "execution_count": 9,
   "metadata": {},
   "outputs": [],
   "source": [
    "# по правилу 3-х сигм:\n",
    "p1 = 1 - (1 - 0.68) / 2\n",
    "p2 = 1 - (1 - 0.954) / 2\n",
    "p3 = (1 - 0.68) / 2\n",
    "p4 = (1 - 0.954) / 2\n",
    "p5 = (1 - 0.9972) / 2\n",
    "p6 = 1 - (1 - 0.9972) / 2\n"
   ]
  },
  {
   "cell_type": "code",
   "execution_count": 11,
   "metadata": {},
   "outputs": [
    {
     "name": "stdout",
     "output_type": "stream",
     "text": [
      "а) 15.87%\n",
      "б) 2.28%\n",
      "в) 81.86%\n",
      "г) 68.27%\n",
      "д) 95.45%\n",
      "е) 2.41%\n",
      "ё) 0.27%\n",
      "ж) 15.87%\n"
     ]
    }
   ],
   "source": [
    "VARIANTS = \"абвгдеёж\"\n",
    "answerList = []\n",
    "\n",
    "answerList.append(1 - p1)\n",
    "answerList.append(1 - p2)\n",
    "answerList.append(p2 - p3)\n",
    "answerList.append(p1 - p3)\n",
    "answerList.append(p2 - p4)\n",
    "answerList.append(p5 + 1 - p2)\n",
    "answerList.append(p5 + 1 - p6)\n",
    "answerList.append(p3)\n",
    "\n",
    "for i, v in enumerate(VARIANTS):\n",
    "    print(f\"{v}) {round(answerList[i] * 100, 2)}%\")"
   ]
  },
  {
   "cell_type": "markdown",
   "metadata": {},
   "source": [
    "#### `scipy.stats`"
   ]
  },
  {
   "cell_type": "code",
   "execution_count": 10,
   "metadata": {},
   "outputs": [],
   "source": [
    "p1 = stats.norm.cdf(182, loc=MEAN_VAL, scale=STD_DIFF)\n",
    "p2 = stats.norm.cdf(190, loc=MEAN_VAL, scale=STD_DIFF)\n",
    "p3 = stats.norm.cdf(166, loc=MEAN_VAL, scale=STD_DIFF)\n",
    "p4 = stats.norm.cdf(158, loc=MEAN_VAL, scale=STD_DIFF)\n",
    "p5 = stats.norm.cdf(150, loc=MEAN_VAL, scale=STD_DIFF)\n",
    "p6 = stats.norm.cdf(198, loc=MEAN_VAL, scale=STD_DIFF)"
   ]
  },
  {
   "cell_type": "code",
   "execution_count": 65,
   "metadata": {},
   "outputs": [
    {
     "name": "stdout",
     "output_type": "stream",
     "text": [
      "а) 15.87%\n",
      "б) 2.28%\n",
      "в) 81.86%\n",
      "г) 68.27%\n",
      "д) 95.45%\n",
      "е) 2.41%\n",
      "ё) 0.27%\n",
      "ж) 15.87%\n"
     ]
    }
   ],
   "source": [
    "VARIANTS = \"абвгдеёж\"\n",
    "answerList = []\n",
    "\n",
    "answerList.append(1 - p1)\n",
    "answerList.append(1 - p2)\n",
    "answerList.append(p2 - p3)\n",
    "answerList.append(p1 - p3)\n",
    "answerList.append(p2 - p4)\n",
    "answerList.append(p5 + 1 - p2)\n",
    "answerList.append(p5 + 1 - p6)\n",
    "answerList.append(p3)\n",
    "\n",
    "for i, v in enumerate(VARIANTS):\n",
    "    print(f\"{v}) {round(answerList[i] * 100, 2)}%\")"
   ]
  },
  {
   "attachments": {},
   "cell_type": "markdown",
   "metadata": {},
   "source": [
    "### Задача 5\n",
    "На сколько сигм (средних квадратичных отклонений) отклоняется рост человека, равный 190 см, от математического ожидания роста в популяции, в которой M(X) = 178 см и D(X) = 25 кв.см?"
   ]
  },
  {
   "cell_type": "code",
   "execution_count": 54,
   "metadata": {},
   "outputs": [
    {
     "data": {
      "text/plain": [
       "2.4"
      ]
     },
     "execution_count": 54,
     "metadata": {},
     "output_type": "execute_result"
    }
   ],
   "source": [
    "MEAN_VAL = 178 # среднее значение\n",
    "DISP = 25 # дисперсия\n",
    "X = 190 # заданное значение сл. величины\n",
    "\n",
    "abs(X - MEAN_VAL) / math.sqrt(DISP)"
   ]
  },
  {
   "cell_type": "markdown",
   "metadata": {},
   "source": [
    "#### `scipy.stats`"
   ]
  },
  {
   "cell_type": "code",
   "execution_count": 55,
   "metadata": {},
   "outputs": [
    {
     "data": {
      "text/plain": [
       "2.3999999999999986"
      ]
     },
     "execution_count": 55,
     "metadata": {},
     "output_type": "execute_result"
    }
   ],
   "source": [
    "stats.norm.ppf(stats.norm.cdf(X, loc=MEAN_VAL, scale=math.sqrt(DISP)))"
   ]
  }
 ],
 "metadata": {
  "kernelspec": {
   "display_name": "Python 3",
   "language": "python",
   "name": "python3"
  },
  "language_info": {
   "codemirror_mode": {
    "name": "ipython",
    "version": 3
   },
   "file_extension": ".py",
   "mimetype": "text/x-python",
   "name": "python",
   "nbconvert_exporter": "python",
   "pygments_lexer": "ipython3",
   "version": "3.10.7"
  },
  "orig_nbformat": 4,
  "vscode": {
   "interpreter": {
    "hash": "6c32dbc7c05ad5f3c68dcc7b95560371c17f323899af461511fd225478ef93f6"
   }
  }
 },
 "nbformat": 4,
 "nbformat_minor": 2
}
