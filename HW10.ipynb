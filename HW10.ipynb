{
 "cells": [
  {
   "attachments": {},
   "cell_type": "markdown",
   "metadata": {},
   "source": [
    "# ДЗ 10"
   ]
  },
  {
   "cell_type": "code",
   "execution_count": 1,
   "metadata": {},
   "outputs": [],
   "source": [
    "import numpy as np\n",
    "import matplotlib.pyplot as plt\n",
    "import scipy.stats as stats\n",
    "import pandas as pd\n",
    "from statsmodels.stats.multicomp import pairwise_tukeyhsd"
   ]
  },
  {
   "attachments": {},
   "cell_type": "markdown",
   "metadata": {},
   "source": [
    "### Задача\n",
    "`Провести дисперсионный анализ для определения того, есть ли различия среднего роста среди взрослых футболистов, хоккеистов и штангистов.\n",
    "Даны значения роста в трех группах случайно выбранных спортсменов:`  \n",
    "`Футболисты: 173, 175, 180, 178, 177, 185, 183, 182`  \n",
    "`Хоккеисты: 177, 179, 180, 188, 177, 172, 171, 184, 180`  \n",
    "`Штангисты: 172, 173, 169, 177, 166, 180, 178, 177, 172, 166, 170`"
   ]
  },
  {
   "cell_type": "code",
   "execution_count": 2,
   "metadata": {},
   "outputs": [],
   "source": [
    "Y = (\n",
    "    np.array([173, 175, 180, 178, 177, 185, 183, 182]),\n",
    "    np.array([177, 179, 180, 188, 177, 172, 171, 184, 180]),\n",
    "    np.array([172, 173, 169, 177, 166, 180, 178, 177, 172, 166, 170])\n",
    ")\n",
    "\n",
    "PROFS = (\n",
    "    \"Футболисты\",\n",
    "    \"Хоккеисты\",\n",
    "    \"Штангисты\"\n",
    ")\n",
    "\n",
    "ALPHA = 0.05\n",
    "\n",
    "k = len(Y) # кол. уровней фактора\n",
    "n = sum(len(y) for y in Y) # общее кол. данных"
   ]
  },
  {
   "cell_type": "code",
   "execution_count": 5,
   "metadata": {},
   "outputs": [
    {
     "data": {
      "text/plain": [
       "[ShapiroResult(statistic=0.9775082468986511, pvalue=0.9495404362678528),\n",
       " ShapiroResult(statistic=0.9579196572303772, pvalue=0.7763139009475708),\n",
       " ShapiroResult(statistic=0.9386808276176453, pvalue=0.5051165223121643)]"
      ]
     },
     "execution_count": 5,
     "metadata": {},
     "output_type": "execute_result"
    }
   ],
   "source": [
    "[stats.shapiro(y) for y in Y] # проверка на нормальность"
   ]
  },
  {
   "attachments": {},
   "cell_type": "markdown",
   "metadata": {},
   "source": [
    "**Вывод:** Распределения нормальны."
   ]
  },
  {
   "cell_type": "code",
   "execution_count": 6,
   "metadata": {},
   "outputs": [
    {
     "data": {
      "text/plain": [
       "BartlettResult(statistic=0.4640521043406442, pvalue=0.7929254656083131)"
      ]
     },
     "execution_count": 6,
     "metadata": {},
     "output_type": "execute_result"
    }
   ],
   "source": [
    "stats.bartlett(*Y) # Проверка на равенство дисперсий"
   ]
  },
  {
   "attachments": {},
   "cell_type": "markdown",
   "metadata": {},
   "source": [
    "**Вывод:** Различие дисперсий не носит статистически значимого характера. Выполняем параметрический тест."
   ]
  },
  {
   "cell_type": "code",
   "execution_count": 5,
   "metadata": {},
   "outputs": [
    {
     "data": {
      "image/png": "[encoded data removed]",
      "text/plain": [
       "<Figure size 640x480 with 1 Axes>"
      ]
     },
     "metadata": {},
     "output_type": "display_data"
    }
   ],
   "source": [
    "fig, ax = plt.subplots()\n",
    "ax.set_xticks(np.arange(k + 1))\n",
    "ax.set_xticklabels(PROFS + (\"Средние зн.\",))\n",
    "plt.ylabel(\"Рост\")\n",
    "\n",
    "for i, y in enumerate(Y):\n",
    "    plt.scatter(np.append(np.repeat(i, len(y)), k), np.append(y, np.mean(y)))\n",
    "\n",
    "plt.show()"
   ]
  },
  {
   "cell_type": "code",
   "execution_count": 11,
   "metadata": {},
   "outputs": [
    {
     "data": {
      "text/plain": [
       "(5.500053450812599, 3.3851899614491683)"
      ]
     },
     "execution_count": 11,
     "metadata": {},
     "output_type": "execute_result"
    }
   ],
   "source": [
    "mComm = np.mean(np.hstack(Y)) # общее среднее\n",
    "sFact_sq = sum((np.mean(y) - mComm)**2 * len(y) for y in Y) # сумма квадратов отклонений средних значений уровней # type: ignore\n",
    "sRem_sq = sum(sum((y - np.mean(y))**2) for y in Y) # сумма квадратов отклонений по уровням (остаточных)\n",
    "\n",
    "dFact = sFact_sq / (k - 1) # факторная дисперсия\n",
    "dRem = sRem_sq / (n - k) # остаточная дисперсия\n",
    "\n",
    "f = dFact / dRem # критерий Фишера\n",
    "f_cr = stats.f.ppf(1 - ALPHA, dfn=(k - 1), dfd=(n - k)) # крит. значение для критерия Фишера\n",
    "f, f_cr"
   ]
  },
  {
   "attachments": {},
   "cell_type": "markdown",
   "metadata": {},
   "source": [
    "Т.к. наблюдаемое значение критерия > критического, принимается альтернативная гипотеза - фактор влияет на величину."
   ]
  },
  {
   "cell_type": "code",
   "execution_count": 8,
   "metadata": {},
   "outputs": [
    {
     "data": {
      "text/plain": [
       "F_onewayResult(statistic=5.500053450812596, pvalue=0.010482206918698693)"
      ]
     },
     "execution_count": 8,
     "metadata": {},
     "output_type": "execute_result"
    }
   ],
   "source": [
    "stats.f_oneway(*Y)"
   ]
  },
  {
   "cell_type": "code",
   "execution_count": 8,
   "metadata": {},
   "outputs": [
    {
     "name": "stdout",
     "output_type": "stream",
     "text": [
      "    Multiple Comparison of Means - Tukey HSD, FWER=0.05     \n",
      "============================================================\n",
      "  group1     group2  meandiff p-adj   lower    upper  reject\n",
      "------------------------------------------------------------\n",
      "Футболисты Хоккеисты  -0.4583  0.979  -6.2732  5.3566  False\n",
      "Футболисты Штангисты  -6.3977 0.0219 -11.9583 -0.8372   True\n",
      " Хоккеисты Штангисты  -5.9394 0.0284 -11.3181 -0.5607   True\n",
      "------------------------------------------------------------\n"
     ]
    }
   ],
   "source": [
    "df = pd.DataFrame({\n",
    "    'score': np.hstack(Y),\n",
    "    'group': np.hstack([np.repeat(PROFS[i], repeats=len(y)) for i, y in enumerate(Y)])\n",
    "})\n",
    "\n",
    "print(pairwise_tukeyhsd(df['score'], df['group'], alpha=ALPHA))"
   ]
  },
  {
   "cell_type": "markdown",
   "metadata": {},
   "source": [
    "**Вывод:** Средний рост зависит от вида спорта. Однако между футболистами и хоккеистами статистических различий в росте нет."
   ]
  },
  {
   "cell_type": "code",
   "execution_count": 9,
   "metadata": {},
   "outputs": [],
   "source": [
    "# from functools import reduce\n",
    "# reduce(lambda acc, el: np.append(acc, np.repeat(el[1], len(Y[el[0]]))), enumerate(PROFS), np.array([]))"
   ]
  }
 ],
 "metadata": {
  "kernelspec": {
   "display_name": ".venv",
   "language": "python",
   "name": "python3"
  },
  "language_info": {
   "codemirror_mode": {
    "name": "ipython",
    "version": 3
   },
   "file_extension": ".py",
   "mimetype": "text/x-python",
   "name": "python",
   "nbconvert_exporter": "python",
   "pygments_lexer": "ipython3",
   "version": "3.11.2"
  },
  "orig_nbformat": 4
 },
 "nbformat": 4,
 "nbformat_minor": 2
}
