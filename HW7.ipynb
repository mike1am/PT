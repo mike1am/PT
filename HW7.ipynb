{
 "cells": [
  {
   "attachments": {},
   "cell_type": "markdown",
   "metadata": {},
   "source": [
    "# ДЗ 7"
   ]
  },
  {
   "cell_type": "code",
   "execution_count": 1,
   "metadata": {},
   "outputs": [],
   "source": [
    "import scipy.stats as stats\n",
    "import numpy as np"
   ]
  },
  {
   "attachments": {},
   "cell_type": "markdown",
   "metadata": {},
   "source": [
    "### Задача 1\n",
    "`Даны две независимые выборки. Не соблюдается условие нормальности`  \n",
    "`x1 380, 420, 290`  \n",
    "`y1 140, 360, 200, 900`  \n",
    "`Сделайте вывод по результатам, полученным с помощью функции, имеются ли статистические различия между группами?`"
   ]
  },
  {
   "attachments": {},
   "cell_type": "markdown",
   "metadata": {},
   "source": [
    "2 независимые выборки. Не нормальное распределение - применяем критерий Манна-Уитни."
   ]
  },
  {
   "cell_type": "code",
   "execution_count": 46,
   "metadata": {},
   "outputs": [
    {
     "name": "stdout",
     "output_type": "stream",
     "text": [
      "MannwhitneyuResult(statistic=8.0, pvalue=0.6285714285714286)\n"
     ]
    },
    {
     "data": {
      "text/plain": [
       "'Различий нет'"
      ]
     },
     "execution_count": 46,
     "metadata": {},
     "output_type": "execute_result"
    }
   ],
   "source": [
    "X = np.array([380, 420, 290])\n",
    "Y = np.array([140, 360, 200, 900])\n",
    "ALPHA = 0.05\n",
    "\n",
    "testRes = stats.mannwhitneyu(X, Y)\n",
    "print(testRes)\n",
    "\"Различий нет\" if \\\n",
    "    testRes.pvalue > ALPHA \\\n",
    "else \"Различия есть\""
   ]
  },
  {
   "attachments": {},
   "cell_type": "markdown",
   "metadata": {},
   "source": [
    "### Задача 2\n",
    "`Исследовалось влияние препарата на уровень давления пациентов. Сначала измерялось давление до приема препарата, потом через 10 минут и через 30 минут. Есть ли статистически значимые различия между измерениями давления? В выборках не соблюдается условие нормальности.`  \n",
    "`1е измерение до приема препарата: 150, 160, 165, 145, 155`  \n",
    "`2е измерение через 10 минут: 140, 155, 150, 130, 135`  \n",
    "`3е измерение через 30 минут: 130, 130, 120, 130, 125`"
   ]
  },
  {
   "attachments": {},
   "cell_type": "markdown",
   "metadata": {},
   "source": [
    "Т.к. выборок больше 2-х и они связанные, поскольку давление измерялось у одних и тех же пациентов, то применяем критерий Фридмана."
   ]
  },
  {
   "cell_type": "code",
   "execution_count": 47,
   "metadata": {},
   "outputs": [
    {
     "name": "stdout",
     "output_type": "stream",
     "text": [
      "FriedmanchisquareResult(statistic=9.578947368421062, pvalue=0.00831683351100441)\n"
     ]
    },
    {
     "data": {
      "text/plain": [
       "'Препарат влияет на давление'"
      ]
     },
     "execution_count": 47,
     "metadata": {},
     "output_type": "execute_result"
    }
   ],
   "source": [
    "X1 = np.array([150, 160, 165, 145, 155])\n",
    "X2 = np.array([140, 155, 150, 130, 135])\n",
    "X3 = np.array([130, 130, 120, 130, 125])\n",
    "ALPHA = 0.05\n",
    "\n",
    "testRes = stats.friedmanchisquare(X1, X2, X3)\n",
    "print(testRes)\n",
    "\"Препарат не оказывает влияния\" if \\\n",
    "    testRes.pvalue > ALPHA \\\n",
    "else \"Препарат влияет на давление\""
   ]
  },
  {
   "attachments": {},
   "cell_type": "markdown",
   "metadata": {},
   "source": [
    "### Задача 3\n",
    "`Сравните 1 и 2е измерения, предполагая, что 3го измерения через 30 минут не было. Есть\n",
    "ли статистически значимые различия между измерениями давления?`"
   ]
  },
  {
   "attachments": {},
   "cell_type": "markdown",
   "metadata": {},
   "source": [
    "Для этого можно применить критерий Уилкоксона"
   ]
  },
  {
   "cell_type": "code",
   "execution_count": 48,
   "metadata": {},
   "outputs": [
    {
     "name": "stdout",
     "output_type": "stream",
     "text": [
      "WilcoxonResult(statistic=0.0, pvalue=0.0625)\n"
     ]
    },
    {
     "data": {
      "text/plain": [
       "'Различий нет'"
      ]
     },
     "execution_count": 48,
     "metadata": {},
     "output_type": "execute_result"
    }
   ],
   "source": [
    "testRes = stats.wilcoxon(X1, X2)\n",
    "print(testRes)\n",
    "\"Различий нет\" if \\\n",
    "    testRes.pvalue > ALPHA \\\n",
    "else \"Различия есть\""
   ]
  },
  {
   "attachments": {},
   "cell_type": "markdown",
   "metadata": {},
   "source": [
    "### Задача 4\n",
    "`Даны 3 группы учеников плавания. Не соблюдается условие нормальности.`  \n",
    "`В 1 группе время на дистанцию 50 м составляют:`  \n",
    "`56, 60, 62, 55, 71, 67, 59, 58, 64, 67`  \n",
    "`Вторая группа : 57, 58, 69, 48, 72, 70, 68, 71, 50, 53`  \n",
    "`Третья группа: 57, 67, 49, 48, 47, 55, 66, 51, 54`  \n",
    "`Есть ли статистически значимые различия между группами?`"
   ]
  },
  {
   "attachments": {},
   "cell_type": "markdown",
   "metadata": {},
   "source": [
    "Т.к. групп больше 2х, но они не связаны, применяем критерий Крускала-Уоллиса"
   ]
  },
  {
   "cell_type": "code",
   "execution_count": 49,
   "metadata": {},
   "outputs": [
    {
     "name": "stdout",
     "output_type": "stream",
     "text": [
      "KruskalResult(statistic=5.465564058257224, pvalue=0.06503809985904942)\n"
     ]
    },
    {
     "data": {
      "text/plain": [
       "'Различий нет'"
      ]
     },
     "execution_count": 49,
     "metadata": {},
     "output_type": "execute_result"
    }
   ],
   "source": [
    "X1 = np.array([56, 60, 62, 55, 71, 67, 59, 58, 64, 67])\n",
    "X2 = np.array([57, 58, 69, 48, 72, 70, 68, 71, 50, 53])\n",
    "X3 = np.array([57, 67, 49, 48, 47, 55, 66, 51, 54])\n",
    "ALPHA = 0.05\n",
    "\n",
    "testRes = stats.kruskal(X1, X2, X3)\n",
    "print(testRes)\n",
    "\"Различий нет\" if \\\n",
    "    testRes.pvalue > ALPHA \\\n",
    "else \"Различия есть\""
   ]
  },
  {
   "attachments": {},
   "cell_type": "markdown",
   "metadata": {},
   "source": [
    "### Задача 5\n",
    "`Заявляется, что партия изготавливается со средним арифметическим 2,5 см. Проверить\n",
    "данную гипотезу, если известно, что размеры изделий подчинены нормальному закону\n",
    "распределения. Объем выборки 10, уровень статистической значимости 5%`  \n",
    "`2.51, 2.35, 2.74, 2.56, 2.40, 2.36, 2.65, 2.7, 2.67, 2.34`"
   ]
  },
  {
   "attachments": {},
   "cell_type": "markdown",
   "metadata": {},
   "source": [
    "Т.к. среднее отклонение для генеральной совокупности неизвестно, используем критерий Стьюдента"
   ]
  },
  {
   "cell_type": "code",
   "execution_count": 51,
   "metadata": {},
   "outputs": [
    {
     "data": {
      "text/plain": [
       "(-2.262157162740992, 2.2621571627409915, 0.563061366180296)"
      ]
     },
     "execution_count": 51,
     "metadata": {},
     "output_type": "execute_result"
    }
   ],
   "source": [
    "M = 2.5 # среднее согласно 0-ой гипотезе\n",
    "ALPHA = 0.05\n",
    "X = np.array([2.51, 2.35, 2.74, 2.56, 2.40, 2.36, 2.65, 2.7, 2.67, 2.34])\n",
    "\n",
    "mean = np.mean(X) # среднее по выборке\n",
    "n = len(X) # размер выборки\n",
    "t1 = stats.t.ppf(ALPHA / 2, df=(n - 1)) # нижнее кр. значение критерия\n",
    "t2 = stats.t.ppf(1 - ALPHA / 2, df=(n - 1)) # верхнее кр. значение критерия\n",
    "t_h = (mean - M) / np.std(X, ddof=1) * np.sqrt(n) # наблюдаемое значение критерия\n",
    "\n",
    "t1, t2, t_h"
   ]
  },
  {
   "attachments": {},
   "cell_type": "markdown",
   "metadata": {},
   "source": [
    "Т.к. наблюдаемое значение критерия лежит между нижней и верхней границами, гипотеза, что среднее равно 2.5 см, подтверждается."
   ]
  }
 ],
 "metadata": {
  "kernelspec": {
   "display_name": "Python 3",
   "language": "python",
   "name": "python3"
  },
  "language_info": {
   "codemirror_mode": {
    "name": "ipython",
    "version": 3
   },
   "file_extension": ".py",
   "mimetype": "text/x-python",
   "name": "python",
   "nbconvert_exporter": "python",
   "pygments_lexer": "ipython3",
   "version": "3.10.7"
  },
  "orig_nbformat": 4,
  "vscode": {
   "interpreter": {
    "hash": "6c32dbc7c05ad5f3c68dcc7b95560371c17f323899af461511fd225478ef93f6"
   }
  }
 },
 "nbformat": 4,
 "nbformat_minor": 2
}
